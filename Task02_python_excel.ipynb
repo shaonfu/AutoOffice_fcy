{
 "cells": [
  {
   "cell_type": "code",
   "execution_count": 1,
   "metadata": {},
   "outputs": [],
   "source": [
    "import pandas as pd"
   ]
  },
  {
   "cell_type": "markdown",
   "metadata": {},
   "source": [
    "行：ROW\n",
    "列：Column\n",
    "单元格：Cell\n",
    "表：sheet"
   ]
  },
  {
   "cell_type": "markdown",
   "metadata": {},
   "source": [
    "# 1.Excel读取\n",
    "## 1.1读取对应表格"
   ]
  },
  {
   "cell_type": "code",
   "execution_count": 4,
   "metadata": {},
   "outputs": [
    {
     "name": "stdout",
     "output_type": "stream",
     "text": [
      "['work']\n"
     ]
    }
   ],
   "source": [
    "#1.打开已经存在的excel表格\n",
    "from openpyxl import load_workbook\n",
    "\n",
    "exl = load_workbook(filename='test.xlsx')\n",
    "print(exl.sheetnames)"
   ]
  },
  {
   "cell_type": "code",
   "execution_count": 5,
   "metadata": {},
   "outputs": [],
   "source": [
    "#2.根据名称获取表格\r\n",
    "sheet = exl['work']\r\n",
    "#如果表中只有一个sheet可以直接用active\r\n",
    "sheet = exl.active"
   ]
  },
  {
   "cell_type": "code",
   "execution_count": 6,
   "metadata": {},
   "outputs": [
    {
     "name": "stdout",
     "output_type": "stream",
     "text": [
      "A1:B51104\n"
     ]
    }
   ],
   "source": [
    "#3.获取Excel内容占据的大小\r\n",
    "print(sheet.dimensions)"
   ]
  },
  {
   "cell_type": "markdown",
   "metadata": {},
   "source": [
    "## 1.2读取单元格"
   ]
  },
  {
   "cell_type": "code",
   "execution_count": 7,
   "metadata": {},
   "outputs": [
    {
     "name": "stdout",
     "output_type": "stream",
     "text": [
      "人流数\n",
      "时间点\n"
     ]
    }
   ],
   "source": [
    "#1.获取某个单元格的具体内容\r\n",
    "cell = sheet.cell(row=1,column=2) #指定行列数   B1\r\n",
    "print(cell.value)\r\n",
    "\r\n",
    "cell_1 = sheet['A1']  #指定坐标\r\n",
    "print(cell_1.value)"
   ]
  },
  {
   "cell_type": "code",
   "execution_count": 11,
   "metadata": {},
   "outputs": [
    {
     "name": "stdout",
     "output_type": "stream",
     "text": [
      "1 2 B1\n"
     ]
    }
   ],
   "source": [
    "print(cell.row, cell.column, cell.coordinate)"
   ]
  },
  {
   "cell_type": "code",
   "execution_count": 12,
   "metadata": {},
   "outputs": [],
   "source": [
    "#1.3读取多个格子的值\r\n",
    "#1.指定坐标范围\r\n",
    "cells = sheet['A1:B8']"
   ]
  },
  {
   "cell_type": "code",
   "execution_count": 15,
   "metadata": {},
   "outputs": [],
   "source": [
    "#2.指定行的值\r\n",
    "Row = sheet[1] #第1行的值\r\n",
    "Rows = sheet[1:2] #第1到2行的值"
   ]
  },
  {
   "cell_type": "code",
   "execution_count": 16,
   "metadata": {},
   "outputs": [],
   "source": [
    "#3.指定列的值\r\n",
    "Column = sheet['A'] #第A列\r\n",
    "Columns = sheet['A:C'] #第A到C列"
   ]
  },
  {
   "cell_type": "code",
   "execution_count": null,
   "metadata": {},
   "outputs": [],
   "source": []
  }
 ],
 "metadata": {
  "interpreter": {
   "hash": "4c189dea772f58598b57832d8b181ba33928e5f7f91aa28f29180a7d5b3bd8ad"
  },
  "kernelspec": {
   "display_name": "Python 3.6.7 64-bit ('tf2.0': conda)",
   "name": "06145da9-390c-4583-9328-76fd351c86d7"
  },
  "language_info": {
   "codemirror_mode": {
    "name": "ipython",
    "version": 3
   },
   "file_extension": ".py",
   "mimetype": "text/x-python",
   "name": "python",
   "nbconvert_exporter": "python",
   "pygments_lexer": "ipython3",
   "version": "3.8.10"
  },
  "orig_nbformat": 4
 },
 "nbformat": 4,
 "nbformat_minor": 2
}