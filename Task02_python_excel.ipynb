{
 "cells": [
  {
   "cell_type": "code",
   "execution_count": 1,
   "metadata": {},
   "outputs": [],
   "source": [
    "import pandas as pd"
   ]
  },
  {
   "cell_type": "markdown",
   "metadata": {},
   "source": [
    "行：ROW\n",
    "列：Column\n",
    "单元格：Cell\n",
    "表：sheet"
   ]
  },
  {
   "cell_type": "markdown",
   "metadata": {},
   "source": [
    "# 1.Excel读取\n",
    "## 1.1读取对应表格"
   ]
  },
  {
   "cell_type": "code",
   "execution_count": 5,
   "metadata": {},
   "outputs": [
    {
     "name": "stdout",
     "output_type": "stream",
     "text": [
      "['work']\n"
     ]
    }
   ],
   "source": [
    "#1.打开已经存在的excel表格\n",
    "from openpyxl import load_workbook\n",
    "\n",
    "exl = load_workbook(filename='test.xlsx')\n",
    "print(exl.sheetnames)"
   ]
  },
  {
   "cell_type": "code",
   "execution_count": null,
   "metadata": {},
   "outputs": [],
   "source": []
  }
 ],
 "metadata": {
  "interpreter": {
   "hash": "4c189dea772f58598b57832d8b181ba33928e5f7f91aa28f29180a7d5b3bd8ad"
  },
  "kernelspec": {
   "display_name": "Python 3.7.4 64-bit ('tf2.0': conda)",
   "name": "python3"
  },
  "language_info": {
   "codemirror_mode": {
    "name": "ipython",
    "version": 3
   },
   "file_extension": ".py",
   "mimetype": "text/x-python",
   "name": "python",
   "nbconvert_exporter": "python",
   "pygments_lexer": "ipython3",
   "version": "3.7.4"
  },
  "orig_nbformat": 4
 },
 "nbformat": 4,
 "nbformat_minor": 2
}