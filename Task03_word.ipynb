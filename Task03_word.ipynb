{
 "cells": [
  {
   "cell_type": "code",
   "execution_count": null,
   "metadata": {},
   "outputs": [],
   "source": [
    "#新建空白word并插入文字\r\n",
    "# 导入库\r\n",
    "from docx import Document\r\n",
    "\r\n",
    "# 新建空白文档\r\n",
    "doc_1 = Document()\r\n",
    "\r\n",
    "# 添加标题（0相当于文章的题目，默认级别是1，级别范围为0-9）\r\n",
    "doc_1.add_heading('新建空白文档标题，级别为0',level = 0)\r\n",
    "doc_1.add_heading('新建空白文档标题，级别为1',level = 1)\r\n",
    "doc_1.add_heading('新建空白文档标题，级别为2',level = 2)\r\n",
    "\r\n",
    "# 新增段落\r\n",
    "paragraph_1 = doc_1.add_paragraph('这是第一段文字的开始\\nhello world！')\r\n",
    "# 加粗\r\n",
    "paragraph_1.add_run('加粗字体').bold = True\r\n",
    "paragraph_1.add_run('普通字体')\r\n",
    "# 斜体\r\n",
    "paragraph_1.add_run('斜体字体').italic =True\r\n",
    "\r\n",
    "# 新段落（当前段落的下方）\r\n",
    "paragraph_2 = doc_1.add_paragraph('新起的第二段文字。')\r\n",
    "\r\n",
    "# 新段落（指定端的上方）\r\n",
    "prior_paragraph = paragraph_1.insert_paragraph_before('在第一段文字前插入的段落')\r\n",
    "\r\n",
    "# 添加分页符(可以进行灵活的排版）\r\n",
    "doc_1.add_page_break()\r\n",
    "# 新段落（指定端的上方）\r\n",
    "paragraph_3 = doc_1.add_paragraph('这是第二页第一段文字！')\r\n",
    "\r\n",
    "# 保存文件（当前目录下）\r\n",
    "doc_1.save('doc_1.docx')"
   ]
  }
 ],
 "metadata": {
  "interpreter": {
   "hash": "6d6d134a5d991169af4e873abfa6a688085bd9c6e97b8562dbbfcb6fc53032a6"
  },
  "kernelspec": {
   "display_name": "Python 3.8.10 64-bit ('py38': conda)",
   "name": "python3"
  },
  "language_info": {
   "name": "python",
   "version": ""
  },
  "orig_nbformat": 4
 },
 "nbformat": 4,
 "nbformat_minor": 2
}