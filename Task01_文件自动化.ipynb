{
 "cells": [
  {
   "cell_type": "markdown",
   "metadata": {},
   "source": [
    "# 文件自动化处理"
   ]
  },
  {
   "cell_type": "markdown",
   "metadata": {},
   "source": [
    "## 1.1 读写文件"
   ]
  },
  {
   "cell_type": "markdown",
   "metadata": {},
   "source": [
    "\n",
    "### 1.1.1 文件与文件路径\n",
    "文件的两个属性：“路径”和“文件名”，路径指明文件在计算机上的位置，文件名是指该位置的文件的名称。"
   ]
  },
  {
   "cell_type": "code",
   "execution_count": 5,
   "metadata": {},
   "outputs": [
    {
     "data": {
      "text/plain": [
       "'os/test'"
      ]
     },
     "execution_count": 5,
     "metadata": {},
     "output_type": "execute_result"
    }
   ],
   "source": [
    "import os\n",
    "os.path.join('os','test')"
   ]
  },
  {
   "cell_type": "markdown",
   "metadata": {},
   "source": [
    "### 1.1.2 当前目录\n",
    "\n",
    "利用`os.getcwd()`函数，可以取得当前工作路径的\n",
    "字符串，并可以利用`os.chdir()`改变它。"
   ]
  },
  {
   "cell_type": "code",
   "execution_count": 6,
   "metadata": {},
   "outputs": [
    {
     "data": {
      "text/plain": [
       "'/Users/ousei/Documents/数据分析/Datawhale/AutoOffice_fcy'"
      ]
     },
     "execution_count": 6,
     "metadata": {},
     "output_type": "execute_result"
    }
   ],
   "source": [
    "os.getcwd()"
   ]
  },
  {
   "cell_type": "code",
   "execution_count": 7,
   "metadata": {},
   "outputs": [
    {
     "name": "stdout",
     "output_type": "stream",
     "text": [
      "/Users/ousei/Documents/数据分析/Datawhale/AutoOffice_fcy\n"
     ]
    }
   ],
   "source": [
    "!pwd"
   ]
  },
  {
   "cell_type": "code",
   "execution_count": 8,
   "metadata": {},
   "outputs": [
    {
     "data": {
      "text/plain": [
       "'/Users/ousei/Documents/数据分析/Datawhale/AutoOffice_fcy/date'"
      ]
     },
     "execution_count": 8,
     "metadata": {},
     "output_type": "execute_result"
    }
   ],
   "source": [
    "#改变当前工作目录\n",
    "os.chdir('/Users/ousei/Documents/数据分析/Datawhale/AutoOffice_fcy/date')\n",
    "os.getcwd()"
   ]
  },
  {
   "cell_type": "markdown",
   "metadata": {},
   "source": [
    "### 1.1.3 路径操作\n",
    "\n",
    "“绝对路径”，总是从根文件夹开始。\n",
    "“相对路径”，相对于程序的当前工作目录。\n",
    "相对路径中，单个句点“.”表示当前目录的缩写，两个句点“..”表示父文件夹\n"
   ]
  },
  {
   "cell_type": "code",
   "execution_count": 9,
   "metadata": {},
   "outputs": [],
   "source": [
    "#几个常用的绝对路径和相对路径处理函数\n",
    "\"\"\"\n",
    "os.path.abspath(path)：\n",
    "将相对路径转换为绝对路径，将返回参数的绝对路径的字符串。\n",
    "os.path.isabs(path)：\n",
    "判断是否是绝对路径，是返回True,不是则返回False\n",
    "\"\"\"\n",
    "t_path = os.getcwd()"
   ]
  },
  {
   "cell_type": "code",
   "execution_count": 10,
   "metadata": {},
   "outputs": [
    {
     "data": {
      "text/plain": [
       "True"
      ]
     },
     "execution_count": 10,
     "metadata": {},
     "output_type": "execute_result"
    }
   ],
   "source": [
    "os.path.isabs(t_path)"
   ]
  },
  {
   "cell_type": "code",
   "execution_count": 11,
   "metadata": {},
   "outputs": [
    {
     "data": {
      "text/plain": [
       "'date'"
      ]
     },
     "execution_count": 11,
     "metadata": {},
     "output_type": "execute_result"
    }
   ],
   "source": [
    "# 路径操作\n",
    "'''\n",
    "os.path.relpath(path,start):\n",
    "返回从start路径到path的相对路径的字符串。如果没提供start,就使用当前工作目录作为开始路径。\n",
    "os.path.dirname(path): 返回当前路径的目录名称。\n",
    "os.path.basename(path)：返回当前路径的文件名称。\n",
    "'''\n",
    "os.path.dirname(t_path)\n",
    "os.path.basename(t_path)"
   ]
  },
  {
   "cell_type": "code",
   "execution_count": 12,
   "metadata": {},
   "outputs": [
    {
     "name": "stdout",
     "output_type": "stream",
     "text": [
      "/Users/ousei/Documents/数据分析/Datawhale/AutoOffice_fcy/date\n"
     ]
    }
   ],
   "source": [
    "print(t_path)"
   ]
  },
  {
   "cell_type": "code",
   "execution_count": 13,
   "metadata": {},
   "outputs": [
    {
     "name": "stdout",
     "output_type": "stream",
     "text": [
      "('/Users/ousei/Documents/数据分析/Datawhale/AutoOffice_fcy', 'date')\n"
     ]
    }
   ],
   "source": [
    "#如果同时需要一个路径的目录名称和基本名称，可以调用`os.path.split()`，\n",
    "#获得者两个字符串的元组。\n",
    "caFilePath = os.path.split(t_path)\n",
    "print(caFilePath)"
   ]
  },
  {
   "cell_type": "code",
   "execution_count": 14,
   "metadata": {},
   "outputs": [
    {
     "data": {
      "text/plain": [
       "['',\n",
       " 'Users',\n",
       " 'ousei',\n",
       " 'Documents',\n",
       " '数据分析',\n",
       " 'Datawhale',\n",
       " 'AutoOffice_fcy',\n",
       " 'date']"
      ]
     },
     "execution_count": 14,
     "metadata": {},
     "output_type": "execute_result"
    }
   ],
   "source": [
    "t_path.split(os.path.sep)"
   ]
  },
  {
   "cell_type": "code",
   "execution_count": 15,
   "metadata": {},
   "outputs": [
    {
     "data": {
      "text/plain": [
       "'\\n`os.path.exists(path)`：\\n如果path参数所指的文件或文件夹存在，则返回True,否则返回False。\\n`os.path.isfile(path)`：\\n如果path参数存在，并且是一个文件，则返回True,否则返回False。\\n`os.path.isdir(path)`：\\n如果path参数存在，并且是一个文件夹，则返回True,否则返回False。\\n'"
      ]
     },
     "execution_count": 15,
     "metadata": {},
     "output_type": "execute_result"
    }
   ],
   "source": [
    "#路径有效性检查 \n",
    "\"\"\"\n",
    "`os.path.exists(path)`：\n",
    "如果path参数所指的文件或文件夹存在，则返回True,否则返回False。\n",
    "`os.path.isfile(path)`：\n",
    "如果path参数存在，并且是一个文件，则返回True,否则返回False。\n",
    "`os.path.isdir(path)`：\n",
    "如果path参数存在，并且是一个文件夹，则返回True,否则返回False。\n",
    "\"\"\""
   ]
  },
  {
   "cell_type": "markdown",
   "metadata": {},
   "source": [
    "### 1.1.4 文件及文件夹操作"
   ]
  },
  {
   "cell_type": "code",
   "execution_count": 16,
   "metadata": {},
   "outputs": [
    {
     "ename": "FileExistsError",
     "evalue": "[Errno 17] File exists: '/Users/ousei/Documents/数据分析/Datawhale/AutoOffice_fcy/test'",
     "output_type": "error",
     "traceback": [
      "\u001b[0;31m---------------------------------------------------------------------------\u001b[0m",
      "\u001b[0;31mFileExistsError\u001b[0m                           Traceback (most recent call last)",
      "\u001b[0;32m<ipython-input-16-e35f4c0233f7>\u001b[0m in \u001b[0;36m<module>\u001b[0;34m\u001b[0m\n\u001b[1;32m      1\u001b[0m \u001b[0;31m#os.makedirs() 查看目录，已创建，若文件夹已存在，不会覆盖，会报错\u001b[0m\u001b[0;34m\u001b[0m\u001b[0;34m\u001b[0m\u001b[0;34m\u001b[0m\u001b[0m\n\u001b[1;32m      2\u001b[0m \u001b[0;32mimport\u001b[0m \u001b[0mos\u001b[0m\u001b[0;34m\u001b[0m\u001b[0;34m\u001b[0m\u001b[0m\n\u001b[0;32m----> 3\u001b[0;31m \u001b[0mos\u001b[0m\u001b[0;34m.\u001b[0m\u001b[0mmakedirs\u001b[0m\u001b[0;34m(\u001b[0m\u001b[0;34m'/Users/ousei/Documents/数据分析/Datawhale/AutoOffice_fcy/test'\u001b[0m\u001b[0;34m)\u001b[0m\u001b[0;34m\u001b[0m\u001b[0;34m\u001b[0m\u001b[0m\n\u001b[0m",
      "\u001b[0;32m/Library/anaconda3/envs/tf2.0/lib/python3.7/os.py\u001b[0m in \u001b[0;36mmakedirs\u001b[0;34m(name, mode, exist_ok)\u001b[0m\n\u001b[1;32m    219\u001b[0m             \u001b[0;32mreturn\u001b[0m\u001b[0;34m\u001b[0m\u001b[0;34m\u001b[0m\u001b[0m\n\u001b[1;32m    220\u001b[0m     \u001b[0;32mtry\u001b[0m\u001b[0;34m:\u001b[0m\u001b[0;34m\u001b[0m\u001b[0;34m\u001b[0m\u001b[0m\n\u001b[0;32m--> 221\u001b[0;31m         \u001b[0mmkdir\u001b[0m\u001b[0;34m(\u001b[0m\u001b[0mname\u001b[0m\u001b[0;34m,\u001b[0m \u001b[0mmode\u001b[0m\u001b[0;34m)\u001b[0m\u001b[0;34m\u001b[0m\u001b[0;34m\u001b[0m\u001b[0m\n\u001b[0m\u001b[1;32m    222\u001b[0m     \u001b[0;32mexcept\u001b[0m \u001b[0mOSError\u001b[0m\u001b[0;34m:\u001b[0m\u001b[0;34m\u001b[0m\u001b[0;34m\u001b[0m\u001b[0m\n\u001b[1;32m    223\u001b[0m         \u001b[0;31m# Cannot rely on checking for EEXIST, since the operating system\u001b[0m\u001b[0;34m\u001b[0m\u001b[0;34m\u001b[0m\u001b[0;34m\u001b[0m\u001b[0m\n",
      "\u001b[0;31mFileExistsError\u001b[0m: [Errno 17] File exists: '/Users/ousei/Documents/数据分析/Datawhale/AutoOffice_fcy/test'"
     ]
    }
   ],
   "source": [
    "#os.makedirs() 查看目录，已创建，若文件夹已存在，不会覆盖，会报错\n",
    "import os\n",
    "os.makedirs('/Users/ousei/Documents/数据分析/Datawhale/AutoOffice_fcy/test')"
   ]
  },
  {
   "cell_type": "code",
   "execution_count": null,
   "metadata": {},
   "outputs": [
    {
     "data": {
      "text/plain": [
       "'/Users/ousei/Documents/数据分析/Datawhale/AutoOffice_fcy'"
      ]
     },
     "execution_count": 15,
     "metadata": {},
     "output_type": "execute_result"
    }
   ],
   "source": [
    "os.getcwd()"
   ]
  },
  {
   "cell_type": "code",
   "execution_count": null,
   "metadata": {},
   "outputs": [
    {
     "data": {
      "text/plain": [
       "7472"
      ]
     },
     "execution_count": 17,
     "metadata": {},
     "output_type": "execute_result"
    }
   ],
   "source": [
    "#os.path.getsize(path)：返回path参数中文件的字节数。\n",
    "#os.listdir(path):返回文件名字符串的列表，包含path参数中的每个文件。\n",
    "os.path.getsize('/Users/ousei/Documents/数据分析/Datawhale/AutoOffice_fcy/Task01_文件自动化.ipynb')\n"
   ]
  },
  {
   "cell_type": "code",
   "execution_count": null,
   "metadata": {},
   "outputs": [],
   "source": [
    "#练习\n",
    "'''\n",
    "1.如果已有的文件以写模式打开,会发生什么？\n",
    "写模式，新建一个文件，如果该文件已存在则会报错。\n",
    "\n",
    "2.read()和readlines()方法之间的区别是什么？\n",
    "read():一次性读取整个文件内容，将整个文件放到一个字符串中。推荐使用read(size)方法，size越大运行时间越长\n",
    "readline():每次读取一行内容。内存不够时使用，一般不太用\n",
    "readlines():一次性读取整个文件内容到一个迭代器以供我们遍历（读取到一个list中，以供使用，比较方便）\n",
    "\n",
    "'''"
   ]
  },
  {
   "cell_type": "code",
   "execution_count": 44,
   "metadata": {},
   "outputs": [],
   "source": [
    "''''\n",
    "综合练习 美国首府小测验\n",
    "• 创建 35 份不同的测验试卷。\n",
    "• 为每份试卷创建 9 个多重选择题，次序随机。\n",
    "• 为每个问题提供一个正确答案和 3 个随机的错误答案，次序随机。\n",
    "• 将测验试卷写到 35 个文本文件中。\n",
    "• 将答案写到 35 个文本文件中。\n",
    "  这意味着代码需要做下面的事：\n",
    "• 将州和它们的首府保存在一个字典中。\n",
    "• 针对测验文本文件和答案文本文件，调用 open()、write()和 close()。\n",
    "• 利用 random.shuffle()随机调整问题和多重选项的次序。\n",
    "\n",
    "'''\n",
    "import random\n",
    "\n",
    "#先将美国各州首府数据存储在字典中\n",
    "capitals = {'Alabama':'Montgomery','Alaska':'Juneau','Arizona':'Phoenix',\n",
    "            'Arkansas':'Little Rock','California':'Sacramento','Colorado':'Denver',\n",
    "            'Connecticut':'Hartford','Delaware':'Dover','Florida':'Tallahassee'}\n",
    " \n",
    "for quizNum in range(35):\n",
    "    #创建试卷和答案文件\n",
    "    quizFile = open('homework/captitalsquiz%s.txt'%(quizNum+1),'w')\n",
    "    answerKeyFile = open('homework/capitalsquiz_answers%s.txt' % (quizNum+1),'w')\n",
    "\n",
    "    #打乱capital字典\n",
    "    states = list(capitals.keys())\n",
    "    random.shuffle(states)\n",
    "\n",
    "    #循环states,制造9个问题\n",
    "    for questionNum in range(9):\n",
    "        correctAnswer = capitals[states[questionNum]]\n",
    "        wrongAnswers = list(capitals.values())\n",
    "        del wrongAnswers[wrongAnswers.index(correctAnswer)] # 删除列表中的正确答案\n",
    "        # random.sample()函数使得这种选择很容易，它的第一个参数是你希望选择的列表，第二个参数是你希望选择的值的个数。\n",
    "        wrongAnswers = random.sample(wrongAnswers,3)\n",
    "        answerOptions = wrongAnswers + [correctAnswer]\n",
    "        random.shuffle(answerOptions)\n",
    " \n",
    "        quizFile.write('%s. What is the caption of %s\\n' % (questionNum + 1,states[questionNum]))\n",
    "        for i in range(4):\n",
    "            quizFile.write(' %s. %s\\n' % ('ABCD'[i],answerOptions[i]))\n",
    "        quizFile.write('\\n')\n",
    " \n",
    "        answerKeyFile.write('%s. %s\\n' % (questionNum + 1,'ABCD'[answerOptions.index(correctAnswer)]))\n",
    "    quizFile.close()\n",
    "    answerKeyFile.close()\n"
   ]
  },
  {
   "cell_type": "code",
   "execution_count": null,
   "metadata": {},
   "outputs": [],
   "source": []
  },
  {
   "cell_type": "code",
   "execution_count": null,
   "metadata": {},
   "outputs": [],
   "source": [
    "'''\n",
    "1.编写一个程序，遍历一个目录树，查找特定扩展名的文件（诸如.pdf 或.jpg）。\n",
    "不论这些文件的位置在哪里， 将它们拷贝到一个新的文件夹中。\n",
    "2.\b超过100MB 的文件。将这些文件的绝对路径打印到屏幕上。\n",
    "3.编写一个程序， 在一个文件夹中， 找到所有带指定前缀的文件， \n",
    "诸如 spam001.txt,spam002.txt 等，并定位缺失的编号（例如存在 spam001.txt 和 spam003.txt， \n",
    "但不存在 spam002.txt）。让该程序对所有后面的文件改名， 消除缺失的编号。\n",
    "作为附加的挑战，编写另一个程序，在一些连续编号的文件中，空出一些编号，以便加入新的文件。\n",
    "\n",
    "''' "
   ]
  },
  {
   "cell_type": "markdown",
   "metadata": {},
   "source": [
    "## 自动发送电子邮件"
   ]
  },
  {
   "cell_type": "code",
   "execution_count": null,
   "metadata": {},
   "outputs": [],
   "source": [
    "'''\n",
    "Python有两个内置库：smtplib和email，\n",
    "能够实现邮件功能，smtplib库负责发送邮件，\n",
    "email库负责构造邮件格式和内容。\n",
    "\n",
    "邮件发送需要遵守SMTP协议，Python内置对SMTP的支持，\n",
    "可以发送纯文本邮件、HTML邮件以及带附件的邮件。\n",
    "'''"
   ]
  },
  {
   "cell_type": "code",
   "execution_count": 17,
   "metadata": {},
   "outputs": [],
   "source": [
    "#导入相关的库和方法\n",
    "import smtplib\n",
    "from smtplib import SMTP_SSL   #加密邮件内容\n",
    "from email.mime.text import MIMEText    #邮件正文构建\n",
    "from email.mime.image import MIMEImage  #构造邮件的图片\n",
    "from email.mime.multipart import MIMEMultipart    #把邮件的各个部分装在一起\n",
    "from email.header import Header   #邮件的文件头,标题,收件人\n"
   ]
  },
  {
   "cell_type": "code",
   "execution_count": 33,
   "metadata": {},
   "outputs": [],
   "source": [
    "#设置邮箱域名、发件人邮箱、邮箱授权码、收件人邮箱\n",
    "host_server = 'smtp.qq.com' #邮箱smtp服务器                 #smtp 服务器的地址\n",
    "sender_qq = '362483671@qq.com'                   #发件人的邮箱\n",
    "pwd = 'enrfpescdgbjcagd'                    #pwd为邮箱的授权码\n",
    "receiver = 'qq3011@163.com'    "
   ]
  },
  {
   "cell_type": "code",
   "execution_count": 34,
   "metadata": {},
   "outputs": [],
   "source": [
    "#构建MIMEMultipart对象代表邮件本身，可以往里面添加文本、图片、附件等\n",
    "msg = MIMEMultipart()    #邮件主体"
   ]
  },
  {
   "cell_type": "code",
   "execution_count": 35,
   "metadata": {},
   "outputs": [],
   "source": [
    "#4 设置邮件头部内容\n",
    "mail_title = 'python办公自动化邮件Test'   # 邮件标题\n",
    "msg[\"Subject\"] = Header(mail_title,'utf-8')  #装入主体\n",
    "msg[\"From\"] = sender_qq           #寄件人\n",
    "msg[\"To\"] = Header(\"测试邮箱\",'utf-8') #标题\n"
   ]
  },
  {
   "cell_type": "code",
   "execution_count": 36,
   "metadata": {},
   "outputs": [],
   "source": [
    "#添加正文\n",
    "mail_content = \"这是使用python登录qq邮箱发送邮件的测试2\"   #邮件的正文内容\n",
    "message_text = MIMEText(mail_content,'plain','utf-8')   #构造文本,参数1：正文内容，参数2：文本格式，参数3：编码方式\n",
    "msg.attach(message_text) "
   ]
  },
  {
   "cell_type": "code",
   "execution_count": 37,
   "metadata": {},
   "outputs": [],
   "source": [
    "#添加图片\n",
    "image_data = open('test.png','rb')   # 二进制读取图片\n",
    "message_image = MIMEImage(image_data.read())  # 设置读取获取的二进制数据\n",
    "image_data.close()       # 关闭刚才打开的文件\n",
    "msg.attach(message_image)  # 添加图片文件到邮件信息当中去"
   ]
  },
  {
   "cell_type": "code",
   "execution_count": 38,
   "metadata": {},
   "outputs": [],
   "source": [
    "#添加附件(excel表格)\n",
    "atta = MIMEText(open('test_excel.xlsx', 'rb').read(), 'base64', 'utf-8')   # 构造附件\n",
    "atta[\"Content-Disposition\"] = 'attachment; filename=\"test_excel.xlsx\"'  # 设置附件信息\n",
    "msg.attach(atta) "
   ]
  },
  {
   "cell_type": "code",
   "execution_count": 39,
   "metadata": {},
   "outputs": [
    {
     "name": "stdout",
     "output_type": "stream",
     "text": [
      "邮件发送成功\n"
     ]
    },
    {
     "data": {
      "text/plain": [
       "<bound method SMTP.quit of <smtplib.SMTP_SSL object at 0x7ff3608d26d0>>"
      ]
     },
     "execution_count": 39,
     "metadata": {},
     "output_type": "execute_result"
    }
   ],
   "source": [
    "#8 发送邮件\n",
    "smtp = SMTP_SSL(host_server)       #SSL登录  创建SMTP对象\n",
    "smtp.login(sender_qq,pwd)         ## 登录邮箱，传递参数1：邮箱地址，参数2：邮箱授权码\n",
    "smtp.sendmail(sender_qq,receiver,msg.as_string()) # 发送邮件，传递参数1：发件人邮箱地址，参数2：收件人邮箱地址，参数3：把邮件内容格式改为str\n",
    "print(\"邮件发送成功\")\n",
    "smtp.quit   "
   ]
  },
  {
   "cell_type": "markdown",
   "metadata": {},
   "source": [
    "**如果代码段运行多次,可能会将图片、附件重复加入多次,导致发送的附件重复**"
   ]
  }
 ],
 "metadata": {
  "kernelspec": {
   "display_name": "Python 3.7.4 64-bit ('tf2.0': conda)",
   "name": "python374jvsc74a57bd04c189dea772f58598b57832d8b181ba33928e5f7f91aa28f29180a7d5b3bd8ad"
  },
  "language_info": {
   "codemirror_mode": {
    "name": "ipython",
    "version": 3
   },
   "file_extension": ".py",
   "mimetype": "text/x-python",
   "name": "python",
   "nbconvert_exporter": "python",
   "pygments_lexer": "ipython3",
   "version": "3.7.4"
  },
  "orig_nbformat": 2
 },
 "nbformat": 4,
 "nbformat_minor": 2
}